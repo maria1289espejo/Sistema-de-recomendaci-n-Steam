{
 "cells": [
  {
   "cell_type": "markdown",
   "metadata": {},
   "source": [
    "# Análisis exploratorio de datos - EDA"
   ]
  },
  {
   "cell_type": "markdown",
   "metadata": {},
   "source": [
    "## Limpieza y transformación inical\n",
    "Cada uno de los archivos iniciales presentaba columnas columnas anidadas, las cuales se desanidaron para facilitar el respectivo análisis, asi mismo una vez desanidadas las respectivas columnas, se eliminaron las columnas anidadas, las que tenian datos nulos en todas la filas y aquellas que no tienen relación con las consultas para los end points y/o para el modelo de aprendizaje. También se eliminaron aquellas filas que tenian datos nulos en todas las columnas, ya que ninguno de estos datos aportaba información relevante."
   ]
  },
  {
   "cell_type": "markdown",
   "metadata": {},
   "source": [
    "## Librerias a utilizar"
   ]
  },
  {
   "cell_type": "code",
   "execution_count": 1,
   "metadata": {},
   "outputs": [],
   "source": [
    "import dask.dataframe as dd\n",
    "import pandas as pd\n",
    "import numpy as np\n",
    "import seaborn as sns\n",
    "import matplotlib.pyplot as plt\n",
    "import scipy.stats as stats \n",
    "from datetime import datetime\n",
    "import os"
   ]
  },
  {
   "cell_type": "markdown",
   "metadata": {},
   "source": [
    "## Rutas para los archivos"
   ]
  },
  {
   "cell_type": "markdown",
   "metadata": {},
   "source": [
    "### user_reviews"
   ]
  },
  {
   "cell_type": "code",
   "execution_count": 2,
   "metadata": {},
   "outputs": [],
   "source": [
    "# Lee el archivo parquet comprimido\n",
    "df_reviews = pd.read_parquet(\"C:/Users/57315/Documentos/Phyton_Henry/recomendaciones_steam/datasets_post_limpieza/df_reviews.parquet.gzip\")"
   ]
  },
  {
   "cell_type": "markdown",
   "metadata": {},
   "source": [
    "### user_items"
   ]
  },
  {
   "cell_type": "code",
   "execution_count": 3,
   "metadata": {},
   "outputs": [],
   "source": [
    "# Lee el archivo parquet comprimido\n",
    "df_items = pd.read_parquet(\"C:/Users/57315/Documentos/Phyton_Henry/recomendaciones_steam/datasets_post_limpieza/df_items.parquet.gzip\")"
   ]
  },
  {
   "cell_type": "markdown",
   "metadata": {},
   "source": [
    "### steam_games"
   ]
  },
  {
   "cell_type": "code",
   "execution_count": 4,
   "metadata": {},
   "outputs": [],
   "source": [
    "# Lee el archivo parquet comprimido\n",
    "df_games = pd.read_parquet(\"C:/Users/57315/Documentos/Phyton_Henry/recomendaciones_steam/datasets_post_limpieza/df_games.parquet.gzip\")"
   ]
  },
  {
   "cell_type": "markdown",
   "metadata": {},
   "source": [
    "## Análisis por archivo"
   ]
  },
  {
   "cell_type": "markdown",
   "metadata": {},
   "source": [
    "### df_reviews"
   ]
  },
  {
   "cell_type": "markdown",
   "metadata": {},
   "source": [
    "#### Información Básica\n",
    "\n",
    "Este dataframe contiene 8 columnas, de las cuales 8 de ellas presentan 28 filas con datos nulos. Al realizar una revisión de estas filas se encuentra que a excepción del item_id, las filas en cuestion no tienen datos importantes, por lo tanto se eliminan.\n",
    "\n",
    "Las columnas funny y helpful son cadenas de texto que indican la cantidad de personas para las cuales la review fue divertida y/o de ayuda, parámetros que no se requieren ya que se tendran en cuenta las columnas recomended y el análisis de sentimiento de la columna review, en consecuencia se eliminan las columnas funny y helpful.\n",
    "\n",
    "Las columnas posted y last_edit representan fechas, pero tienen elementos tipo str también, se decide eliminar estos caracteres str para dar formato de fecha a estas columnas.\n",
    "\n",
    "Se dan formatos de entero a la columna item_id que representa identificadores para los juegos y de cadena a columna review que representa la reseña dejada por el usuario, para su posterior analisis."
   ]
  },
  {
   "cell_type": "code",
   "execution_count": 5,
   "metadata": {},
   "outputs": [
    {
     "data": {
      "text/html": [
       "<div>\n",
       "<style scoped>\n",
       "    .dataframe tbody tr th:only-of-type {\n",
       "        vertical-align: middle;\n",
       "    }\n",
       "\n",
       "    .dataframe tbody tr th {\n",
       "        vertical-align: top;\n",
       "    }\n",
       "\n",
       "    .dataframe thead th {\n",
       "        text-align: right;\n",
       "    }\n",
       "</style>\n",
       "<table border=\"1\" class=\"dataframe\">\n",
       "  <thead>\n",
       "    <tr style=\"text-align: right;\">\n",
       "      <th></th>\n",
       "      <th>funny</th>\n",
       "      <th>posted</th>\n",
       "      <th>last_edited</th>\n",
       "      <th>item_id</th>\n",
       "      <th>helpful</th>\n",
       "      <th>recommend</th>\n",
       "      <th>review</th>\n",
       "      <th>user_id</th>\n",
       "    </tr>\n",
       "  </thead>\n",
       "  <tbody>\n",
       "    <tr>\n",
       "      <th>0</th>\n",
       "      <td></td>\n",
       "      <td>Posted November 5, 2011.</td>\n",
       "      <td></td>\n",
       "      <td>1250</td>\n",
       "      <td>No ratings yet</td>\n",
       "      <td>True</td>\n",
       "      <td>Simple yet with great replayability. In my opi...</td>\n",
       "      <td>76561197970982479</td>\n",
       "    </tr>\n",
       "    <tr>\n",
       "      <th>0</th>\n",
       "      <td></td>\n",
       "      <td>Posted July 15, 2011.</td>\n",
       "      <td></td>\n",
       "      <td>22200</td>\n",
       "      <td>No ratings yet</td>\n",
       "      <td>True</td>\n",
       "      <td>It's unique and worth a playthrough.</td>\n",
       "      <td>76561197970982479</td>\n",
       "    </tr>\n",
       "    <tr>\n",
       "      <th>0</th>\n",
       "      <td></td>\n",
       "      <td>Posted April 21, 2011.</td>\n",
       "      <td></td>\n",
       "      <td>43110</td>\n",
       "      <td>No ratings yet</td>\n",
       "      <td>True</td>\n",
       "      <td>Great atmosphere. The gunplay can be a bit chu...</td>\n",
       "      <td>76561197970982479</td>\n",
       "    </tr>\n",
       "    <tr>\n",
       "      <th>1</th>\n",
       "      <td></td>\n",
       "      <td>Posted June 24, 2014.</td>\n",
       "      <td></td>\n",
       "      <td>251610</td>\n",
       "      <td>15 of 20 people (75%) found this review helpful</td>\n",
       "      <td>True</td>\n",
       "      <td>I know what you think when you see this title ...</td>\n",
       "      <td>js41637</td>\n",
       "    </tr>\n",
       "    <tr>\n",
       "      <th>1</th>\n",
       "      <td></td>\n",
       "      <td>Posted September 8, 2013.</td>\n",
       "      <td></td>\n",
       "      <td>227300</td>\n",
       "      <td>0 of 1 people (0%) found this review helpful</td>\n",
       "      <td>True</td>\n",
       "      <td>For a simple (it's actually not all that simpl...</td>\n",
       "      <td>js41637</td>\n",
       "    </tr>\n",
       "  </tbody>\n",
       "</table>\n",
       "</div>"
      ],
      "text/plain": [
       "  funny                     posted last_edited item_id  \\\n",
       "0         Posted November 5, 2011.                1250   \n",
       "0            Posted July 15, 2011.               22200   \n",
       "0           Posted April 21, 2011.               43110   \n",
       "1            Posted June 24, 2014.              251610   \n",
       "1        Posted September 8, 2013.              227300   \n",
       "\n",
       "                                           helpful recommend  \\\n",
       "0                                   No ratings yet      True   \n",
       "0                                   No ratings yet      True   \n",
       "0                                   No ratings yet      True   \n",
       "1  15 of 20 people (75%) found this review helpful      True   \n",
       "1     0 of 1 people (0%) found this review helpful      True   \n",
       "\n",
       "                                              review            user_id  \n",
       "0  Simple yet with great replayability. In my opi...  76561197970982479  \n",
       "0               It's unique and worth a playthrough.  76561197970982479  \n",
       "0  Great atmosphere. The gunplay can be a bit chu...  76561197970982479  \n",
       "1  I know what you think when you see this title ...            js41637  \n",
       "1  For a simple (it's actually not all that simpl...            js41637  "
      ]
     },
     "execution_count": 5,
     "metadata": {},
     "output_type": "execute_result"
    }
   ],
   "source": [
    "# Muestra las primeras filas del dataframe\n",
    "df_reviews.head()"
   ]
  },
  {
   "cell_type": "code",
   "execution_count": 6,
   "metadata": {},
   "outputs": [
    {
     "name": "stdout",
     "output_type": "stream",
     "text": [
      "<class 'pandas.core.frame.DataFrame'>\n",
      "Index: 58458 entries, 0 to 25798\n",
      "Data columns (total 8 columns):\n",
      " #   Column       Non-Null Count  Dtype \n",
      "---  ------       --------------  ----- \n",
      " 0   funny        58430 non-null  object\n",
      " 1   posted       58430 non-null  object\n",
      " 2   last_edited  58430 non-null  object\n",
      " 3   item_id      58430 non-null  object\n",
      " 4   helpful      58430 non-null  object\n",
      " 5   recommend    58430 non-null  object\n",
      " 6   review       58430 non-null  object\n",
      " 7   user_id      58458 non-null  string\n",
      "dtypes: object(7), string(1)\n",
      "memory usage: 4.0+ MB\n"
     ]
    }
   ],
   "source": [
    "# Brinda información resumida del dataframe\n",
    "df_reviews.info()"
   ]
  },
  {
   "cell_type": "code",
   "execution_count": 7,
   "metadata": {},
   "outputs": [
    {
     "data": {
      "text/plain": [
       "funny          28\n",
       "posted         28\n",
       "last_edited    28\n",
       "item_id        28\n",
       "helpful        28\n",
       "recommend      28\n",
       "review         28\n",
       "user_id         0\n",
       "dtype: int64"
      ]
     },
     "execution_count": 7,
     "metadata": {},
     "output_type": "execute_result"
    }
   ],
   "source": [
    "# Cuenta la cantidad de filas con valores nulos en cada columna\n",
    "df_reviews.isnull().sum()"
   ]
  },
  {
   "cell_type": "code",
   "execution_count": 8,
   "metadata": {},
   "outputs": [],
   "source": [
    "# Elimina columnas con información irrelevante\n",
    "df_reviews = df_reviews.drop(columns=['funny', 'helpful'])"
   ]
  },
  {
   "cell_type": "code",
   "execution_count": 9,
   "metadata": {},
   "outputs": [],
   "source": [
    "# Elimina el texto \"Posted\" y \".\" de la columna posted\n",
    "df_reviews['posted'] = df_reviews['posted'].str.replace('Posted ', '')\n",
    "df_reviews['posted'] = df_reviews['posted'].str.replace('.', '')"
   ]
  },
  {
   "cell_type": "code",
   "execution_count": 10,
   "metadata": {},
   "outputs": [],
   "source": [
    "# Convierte la columna 'date_posted' a tipo datetime\n",
    "df_reviews['posted'] = pd.to_datetime(df_reviews['posted'], errors='coerce')\n",
    "\n",
    "# Extrae solo la parte de la fecha\n",
    "df_reviews['posted'] = df_reviews['posted'].dt.date"
   ]
  },
  {
   "cell_type": "code",
   "execution_count": 11,
   "metadata": {},
   "outputs": [],
   "source": [
    "# Elimina el texto \"last_edited\" y \".\" de la columna last edited\n",
    "df_reviews['last_edited'] = df_reviews['last_edited'].str.replace('Last edited ', '')\n",
    "df_reviews['last_edited'] = df_reviews['last_edited'].str.replace('.', '')"
   ]
  },
  {
   "cell_type": "code",
   "execution_count": 12,
   "metadata": {},
   "outputs": [],
   "source": [
    "# Convierte la columna 'last_edited' a tipo datetime\n",
    "df_reviews['last_edited'] = pd.to_datetime(df_reviews['last_edited'], errors='coerce')\n",
    "\n",
    "# Extrae solo la parte de la fecha\n",
    "df_reviews['last_edited'] = df_reviews['last_edited'].dt.date"
   ]
  },
  {
   "cell_type": "code",
   "execution_count": 13,
   "metadata": {},
   "outputs": [],
   "source": [
    "# Da formato de entero a la columna item_id\n",
    "df_reviews['item_id'] = pd.to_numeric(df_reviews['item_id'] )"
   ]
  },
  {
   "cell_type": "code",
   "execution_count": 14,
   "metadata": {},
   "outputs": [],
   "source": [
    "# Da formato de cadena a la columna review\n",
    "df_reviews['review'] = df_reviews['review'].apply(str)"
   ]
  },
  {
   "cell_type": "code",
   "execution_count": 15,
   "metadata": {},
   "outputs": [
    {
     "data": {
      "text/html": [
       "<div>\n",
       "<style scoped>\n",
       "    .dataframe tbody tr th:only-of-type {\n",
       "        vertical-align: middle;\n",
       "    }\n",
       "\n",
       "    .dataframe tbody tr th {\n",
       "        vertical-align: top;\n",
       "    }\n",
       "\n",
       "    .dataframe thead th {\n",
       "        text-align: right;\n",
       "    }\n",
       "</style>\n",
       "<table border=\"1\" class=\"dataframe\">\n",
       "  <thead>\n",
       "    <tr style=\"text-align: right;\">\n",
       "      <th></th>\n",
       "      <th>posted</th>\n",
       "      <th>last_edited</th>\n",
       "      <th>item_id</th>\n",
       "      <th>recommend</th>\n",
       "      <th>review</th>\n",
       "      <th>user_id</th>\n",
       "    </tr>\n",
       "  </thead>\n",
       "  <tbody>\n",
       "    <tr>\n",
       "      <th>2</th>\n",
       "      <td>NaN</td>\n",
       "      <td>NaN</td>\n",
       "      <td>248820.0</td>\n",
       "      <td>True</td>\n",
       "      <td>A suitably punishing roguelike platformer.  Wi...</td>\n",
       "      <td>evcentric</td>\n",
       "    </tr>\n",
       "    <tr>\n",
       "      <th>6</th>\n",
       "      <td>NaN</td>\n",
       "      <td>NaN</td>\n",
       "      <td>730.0</td>\n",
       "      <td>True</td>\n",
       "      <td>ZIKA DO BAILE</td>\n",
       "      <td>76561198079601835</td>\n",
       "    </tr>\n",
       "    <tr>\n",
       "      <th>7</th>\n",
       "      <td>NaN</td>\n",
       "      <td>NaN</td>\n",
       "      <td>730.0</td>\n",
       "      <td>True</td>\n",
       "      <td>BEST GAME IN THE BLOODY WORLD</td>\n",
       "      <td>MeaTCompany</td>\n",
       "    </tr>\n",
       "    <tr>\n",
       "      <th>9</th>\n",
       "      <td>NaN</td>\n",
       "      <td>NaN</td>\n",
       "      <td>252950.0</td>\n",
       "      <td>True</td>\n",
       "      <td>love it</td>\n",
       "      <td>76561198156664158</td>\n",
       "    </tr>\n",
       "    <tr>\n",
       "      <th>10</th>\n",
       "      <td>NaN</td>\n",
       "      <td>NaN</td>\n",
       "      <td>440.0</td>\n",
       "      <td>True</td>\n",
       "      <td>mt bom</td>\n",
       "      <td>76561198077246154</td>\n",
       "    </tr>\n",
       "    <tr>\n",
       "      <th>...</th>\n",
       "      <td>...</td>\n",
       "      <td>...</td>\n",
       "      <td>...</td>\n",
       "      <td>...</td>\n",
       "      <td>...</td>\n",
       "      <td>...</td>\n",
       "    </tr>\n",
       "    <tr>\n",
       "      <th>25797</th>\n",
       "      <td>NaN</td>\n",
       "      <td>NaN</td>\n",
       "      <td>70.0</td>\n",
       "      <td>True</td>\n",
       "      <td>a must have classic from steam definitely wort...</td>\n",
       "      <td>76561198312638244</td>\n",
       "    </tr>\n",
       "    <tr>\n",
       "      <th>25797</th>\n",
       "      <td>NaN</td>\n",
       "      <td>NaN</td>\n",
       "      <td>362890.0</td>\n",
       "      <td>True</td>\n",
       "      <td>this game is a perfect remake of the original ...</td>\n",
       "      <td>76561198312638244</td>\n",
       "    </tr>\n",
       "    <tr>\n",
       "      <th>25798</th>\n",
       "      <td>NaN</td>\n",
       "      <td>NaN</td>\n",
       "      <td>273110.0</td>\n",
       "      <td>True</td>\n",
       "      <td>had so much fun plaing this and collecting res...</td>\n",
       "      <td>LydiaMorley</td>\n",
       "    </tr>\n",
       "    <tr>\n",
       "      <th>25798</th>\n",
       "      <td>NaN</td>\n",
       "      <td>NaN</td>\n",
       "      <td>730.0</td>\n",
       "      <td>True</td>\n",
       "      <td>:D</td>\n",
       "      <td>LydiaMorley</td>\n",
       "    </tr>\n",
       "    <tr>\n",
       "      <th>25798</th>\n",
       "      <td>NaN</td>\n",
       "      <td>NaN</td>\n",
       "      <td>440.0</td>\n",
       "      <td>True</td>\n",
       "      <td>so much fun :D</td>\n",
       "      <td>LydiaMorley</td>\n",
       "    </tr>\n",
       "  </tbody>\n",
       "</table>\n",
       "<p>9960 rows × 6 columns</p>\n",
       "</div>"
      ],
      "text/plain": [
       "      posted last_edited   item_id recommend  \\\n",
       "2        NaN         NaN  248820.0      True   \n",
       "6        NaN         NaN     730.0      True   \n",
       "7        NaN         NaN     730.0      True   \n",
       "9        NaN         NaN  252950.0      True   \n",
       "10       NaN         NaN     440.0      True   \n",
       "...      ...         ...       ...       ...   \n",
       "25797    NaN         NaN      70.0      True   \n",
       "25797    NaN         NaN  362890.0      True   \n",
       "25798    NaN         NaN  273110.0      True   \n",
       "25798    NaN         NaN     730.0      True   \n",
       "25798    NaN         NaN     440.0      True   \n",
       "\n",
       "                                                  review            user_id  \n",
       "2      A suitably punishing roguelike platformer.  Wi...          evcentric  \n",
       "6                                          ZIKA DO BAILE  76561198079601835  \n",
       "7                          BEST GAME IN THE BLOODY WORLD        MeaTCompany  \n",
       "9                                                love it  76561198156664158  \n",
       "10                                                mt bom  76561198077246154  \n",
       "...                                                  ...                ...  \n",
       "25797  a must have classic from steam definitely wort...  76561198312638244  \n",
       "25797  this game is a perfect remake of the original ...  76561198312638244  \n",
       "25798  had so much fun plaing this and collecting res...        LydiaMorley  \n",
       "25798                                                 :D        LydiaMorley  \n",
       "25798                                     so much fun :D        LydiaMorley  \n",
       "\n",
       "[9960 rows x 6 columns]"
      ]
     },
     "execution_count": 15,
     "metadata": {},
     "output_type": "execute_result"
    }
   ],
   "source": [
    "# Revisa cuales son las filas que tienen a excepción de user_id y review, todas las columnas con valores nulos\n",
    "filas_con_todo_nulo_exp_id_rev = df_reviews[(df_reviews['user_id'].notnull()) & (df_reviews['posted'].isnull())]\n",
    "filas_con_todo_nulo_exp_id_rev"
   ]
  },
  {
   "cell_type": "code",
   "execution_count": 16,
   "metadata": {},
   "outputs": [],
   "source": [
    "# Elimina las filas que por su cantidad de valores nulos no aportan información relevante\n",
    "df_reviews = df_reviews.dropna(subset='posted')"
   ]
  },
  {
   "cell_type": "code",
   "execution_count": 17,
   "metadata": {},
   "outputs": [],
   "source": [
    "# Genera nuevo archivo a partir de un dataframe\n",
    "df_reviews.to_parquet('C:/Users/57315/Documentos/Phyton_Henry/recomendaciones_steam/datasets_post_limpieza/df_reviews_clean.parquet.gzip', compression='gzip')"
   ]
  },
  {
   "cell_type": "markdown",
   "metadata": {},
   "source": [
    "#### Estadísticas descriptivas"
   ]
  },
  {
   "cell_type": "code",
   "execution_count": 18,
   "metadata": {},
   "outputs": [
    {
     "data": {
      "text/html": [
       "<div>\n",
       "<style scoped>\n",
       "    .dataframe tbody tr th:only-of-type {\n",
       "        vertical-align: middle;\n",
       "    }\n",
       "\n",
       "    .dataframe tbody tr th {\n",
       "        vertical-align: top;\n",
       "    }\n",
       "\n",
       "    .dataframe thead th {\n",
       "        text-align: right;\n",
       "    }\n",
       "</style>\n",
       "<table border=\"1\" class=\"dataframe\">\n",
       "  <thead>\n",
       "    <tr style=\"text-align: right;\">\n",
       "      <th></th>\n",
       "      <th>posted</th>\n",
       "      <th>last_edited</th>\n",
       "      <th>item_id</th>\n",
       "      <th>recommend</th>\n",
       "      <th>review</th>\n",
       "      <th>user_id</th>\n",
       "    </tr>\n",
       "  </thead>\n",
       "  <tbody>\n",
       "    <tr>\n",
       "      <th>count</th>\n",
       "      <td>48498</td>\n",
       "      <td>4219</td>\n",
       "      <td>48498.000000</td>\n",
       "      <td>48498</td>\n",
       "      <td>48498</td>\n",
       "      <td>48498</td>\n",
       "    </tr>\n",
       "    <tr>\n",
       "      <th>unique</th>\n",
       "      <td>1644</td>\n",
       "      <td>755</td>\n",
       "      <td>NaN</td>\n",
       "      <td>2</td>\n",
       "      <td>45944</td>\n",
       "      <td>22795</td>\n",
       "    </tr>\n",
       "    <tr>\n",
       "      <th>top</th>\n",
       "      <td>2014-06-21</td>\n",
       "      <td>2013-11-25</td>\n",
       "      <td>NaN</td>\n",
       "      <td>True</td>\n",
       "      <td>good game</td>\n",
       "      <td>SpiritOfDeath2</td>\n",
       "    </tr>\n",
       "    <tr>\n",
       "      <th>freq</th>\n",
       "      <td>220</td>\n",
       "      <td>99</td>\n",
       "      <td>NaN</td>\n",
       "      <td>43557</td>\n",
       "      <td>86</td>\n",
       "      <td>10</td>\n",
       "    </tr>\n",
       "    <tr>\n",
       "      <th>mean</th>\n",
       "      <td>NaN</td>\n",
       "      <td>NaN</td>\n",
       "      <td>155294.235515</td>\n",
       "      <td>NaN</td>\n",
       "      <td>NaN</td>\n",
       "      <td>NaN</td>\n",
       "    </tr>\n",
       "    <tr>\n",
       "      <th>std</th>\n",
       "      <td>NaN</td>\n",
       "      <td>NaN</td>\n",
       "      <td>124542.998755</td>\n",
       "      <td>NaN</td>\n",
       "      <td>NaN</td>\n",
       "      <td>NaN</td>\n",
       "    </tr>\n",
       "    <tr>\n",
       "      <th>min</th>\n",
       "      <td>NaN</td>\n",
       "      <td>NaN</td>\n",
       "      <td>10.000000</td>\n",
       "      <td>NaN</td>\n",
       "      <td>NaN</td>\n",
       "      <td>NaN</td>\n",
       "    </tr>\n",
       "    <tr>\n",
       "      <th>25%</th>\n",
       "      <td>NaN</td>\n",
       "      <td>NaN</td>\n",
       "      <td>6550.000000</td>\n",
       "      <td>NaN</td>\n",
       "      <td>NaN</td>\n",
       "      <td>NaN</td>\n",
       "    </tr>\n",
       "    <tr>\n",
       "      <th>50%</th>\n",
       "      <td>NaN</td>\n",
       "      <td>NaN</td>\n",
       "      <td>209080.000000</td>\n",
       "      <td>NaN</td>\n",
       "      <td>NaN</td>\n",
       "      <td>NaN</td>\n",
       "    </tr>\n",
       "    <tr>\n",
       "      <th>75%</th>\n",
       "      <td>NaN</td>\n",
       "      <td>NaN</td>\n",
       "      <td>247910.000000</td>\n",
       "      <td>NaN</td>\n",
       "      <td>NaN</td>\n",
       "      <td>NaN</td>\n",
       "    </tr>\n",
       "    <tr>\n",
       "      <th>max</th>\n",
       "      <td>NaN</td>\n",
       "      <td>NaN</td>\n",
       "      <td>428880.000000</td>\n",
       "      <td>NaN</td>\n",
       "      <td>NaN</td>\n",
       "      <td>NaN</td>\n",
       "    </tr>\n",
       "  </tbody>\n",
       "</table>\n",
       "</div>"
      ],
      "text/plain": [
       "            posted last_edited        item_id recommend     review  \\\n",
       "count        48498        4219   48498.000000     48498      48498   \n",
       "unique        1644         755            NaN         2      45944   \n",
       "top     2014-06-21  2013-11-25            NaN      True  good game   \n",
       "freq           220          99            NaN     43557         86   \n",
       "mean           NaN         NaN  155294.235515       NaN        NaN   \n",
       "std            NaN         NaN  124542.998755       NaN        NaN   \n",
       "min            NaN         NaN      10.000000       NaN        NaN   \n",
       "25%            NaN         NaN    6550.000000       NaN        NaN   \n",
       "50%            NaN         NaN  209080.000000       NaN        NaN   \n",
       "75%            NaN         NaN  247910.000000       NaN        NaN   \n",
       "max            NaN         NaN  428880.000000       NaN        NaN   \n",
       "\n",
       "               user_id  \n",
       "count            48498  \n",
       "unique           22795  \n",
       "top     SpiritOfDeath2  \n",
       "freq                10  \n",
       "mean               NaN  \n",
       "std                NaN  \n",
       "min                NaN  \n",
       "25%                NaN  \n",
       "50%                NaN  \n",
       "75%                NaN  \n",
       "max                NaN  "
      ]
     },
     "execution_count": 18,
     "metadata": {},
     "output_type": "execute_result"
    }
   ],
   "source": [
    "# Muestra estadisticas descriptivas de todas las columnas\n",
    "df_reviews.describe(include='all')"
   ]
  },
  {
   "cell_type": "markdown",
   "metadata": {},
   "source": [
    "**Observaciones**\n",
    "\n",
    "Para el periodo de teimpo analizado, La fecha con mayor cantidad de publicaciones de reseñas es el 21 de junio de 2014, con una frecuencia de 220."
   ]
  },
  {
   "cell_type": "markdown",
   "metadata": {},
   "source": [
    "#### Distribución de variables categoricas"
   ]
  },
  {
   "cell_type": "code",
   "execution_count": 19,
   "metadata": {},
   "outputs": [
    {
     "data": {
      "image/png": "[encoded data removed]",
      "text/plain": [
       "<Figure size 1500x600 with 1 Axes>"
      ]
     },
     "metadata": {},
     "output_type": "display_data"
    }
   ],
   "source": [
    "# Configura el tamaño de la figura (ancho, alto)\n",
    "plt.figure(figsize=(15, 6))  \n",
    "\n",
    "# Configura el estilo de Seaborn\n",
    "sns.set_style(\"whitegrid\")\n",
    "\n",
    "# Crea el gráfico de barras\n",
    "sns.countplot(x='recommend', data=df_reviews, palette='Oranges')\n",
    "\n",
    "# Gira las etiquetas del eje x\n",
    "plt.xticks(rotation=90)  \n",
    "\n",
    "# Muestra el gráfico\n",
    "plt.show()"
   ]
  },
  {
   "cell_type": "markdown",
   "metadata": {},
   "source": [
    "**Observaciones**\n",
    "\n",
    "Independientemente del juego, la gran mayoria de las recomedaciones son positivas, con una frecuencia 5 veces mayor a las recomendaciones negativas."
   ]
  },
  {
   "cell_type": "markdown",
   "metadata": {},
   "source": [
    "### df_items"
   ]
  },
  {
   "cell_type": "markdown",
   "metadata": {},
   "source": [
    "#### Información Básica\n",
    "\n",
    "Este dataframe cuenta con 6 columnas, de ellas 2 presentan datos nulos en 16714 filas, al realizar una revisión de estas filas se encuentra que los datos nulos tambien se encuentran en la columna item_id, esto no se notaba antes porque la columna era tipo object, pero al convertirla al tipo numérico se logran ver los datos nulos, además para estas filas item_name aparece como una cadena vacia e item_count aparece en cero, por lo tanto estas filas no estan aportando información relevante y se decide eliminarlas.\n",
    "\n",
    "Columnas y datos:\n",
    "La columna user_id se refiere al identificador unico del usuario, este puede ser un a combinación de numeros y/ o letras.\n",
    "La columna item_count muestra la cantidad de de juegos usados por el usuario.\n",
    "La columna item_name muestra el nombre del juego.\n",
    "La columna playtime_forever muestra el tiempo de juego en horas\n",
    "La columna playtiem2week no es relevante para el presente análisis, por lo tanto se elimina.\n",
    "\n",
    "Se cambia el tipo de datos de las columnas item_id e item_name a tipo numerico, primero flotante y luego a entero, y cadena respectivamente, para facilitar la visualización de datos nulos, las operaciones y reducir el espacio ocupado en memoria.\n",
    "\n",
    "No hay la misma cantidad de valores unicos de item_id e item_name, partiendo de la premisa que ambos valores deben ser unicos para cada item, es posible que haya filas que muestren diferentes item_id para el mismo item_name, esto se revisa más adelante con df_games."
   ]
  },
  {
   "cell_type": "code",
   "execution_count": 20,
   "metadata": {},
   "outputs": [
    {
     "data": {
      "text/html": [
       "<div>\n",
       "<style scoped>\n",
       "    .dataframe tbody tr th:only-of-type {\n",
       "        vertical-align: middle;\n",
       "    }\n",
       "\n",
       "    .dataframe tbody tr th {\n",
       "        vertical-align: top;\n",
       "    }\n",
       "\n",
       "    .dataframe thead th {\n",
       "        text-align: right;\n",
       "    }\n",
       "</style>\n",
       "<table border=\"1\" class=\"dataframe\">\n",
       "  <thead>\n",
       "    <tr style=\"text-align: right;\">\n",
       "      <th></th>\n",
       "      <th>user_id</th>\n",
       "      <th>items_count</th>\n",
       "      <th>item_id</th>\n",
       "      <th>item_name</th>\n",
       "      <th>playtime_forever</th>\n",
       "      <th>playtime_2weeks</th>\n",
       "    </tr>\n",
       "    <tr>\n",
       "      <th>indice_original</th>\n",
       "      <th></th>\n",
       "      <th></th>\n",
       "      <th></th>\n",
       "      <th></th>\n",
       "      <th></th>\n",
       "      <th></th>\n",
       "    </tr>\n",
       "  </thead>\n",
       "  <tbody>\n",
       "    <tr>\n",
       "      <th>0</th>\n",
       "      <td>76561197970982479</td>\n",
       "      <td>277</td>\n",
       "      <td>10</td>\n",
       "      <td>Counter-Strike</td>\n",
       "      <td>6.0</td>\n",
       "      <td>0.0</td>\n",
       "    </tr>\n",
       "    <tr>\n",
       "      <th>0</th>\n",
       "      <td>76561197970982479</td>\n",
       "      <td>277</td>\n",
       "      <td>20</td>\n",
       "      <td>Team Fortress Classic</td>\n",
       "      <td>0.0</td>\n",
       "      <td>0.0</td>\n",
       "    </tr>\n",
       "    <tr>\n",
       "      <th>0</th>\n",
       "      <td>76561197970982479</td>\n",
       "      <td>277</td>\n",
       "      <td>30</td>\n",
       "      <td>Day of Defeat</td>\n",
       "      <td>7.0</td>\n",
       "      <td>0.0</td>\n",
       "    </tr>\n",
       "    <tr>\n",
       "      <th>0</th>\n",
       "      <td>76561197970982479</td>\n",
       "      <td>277</td>\n",
       "      <td>40</td>\n",
       "      <td>Deathmatch Classic</td>\n",
       "      <td>0.0</td>\n",
       "      <td>0.0</td>\n",
       "    </tr>\n",
       "    <tr>\n",
       "      <th>0</th>\n",
       "      <td>76561197970982479</td>\n",
       "      <td>277</td>\n",
       "      <td>50</td>\n",
       "      <td>Half-Life: Opposing Force</td>\n",
       "      <td>0.0</td>\n",
       "      <td>0.0</td>\n",
       "    </tr>\n",
       "  </tbody>\n",
       "</table>\n",
       "</div>"
      ],
      "text/plain": [
       "                           user_id  items_count item_id  \\\n",
       "indice_original                                           \n",
       "0                76561197970982479          277      10   \n",
       "0                76561197970982479          277      20   \n",
       "0                76561197970982479          277      30   \n",
       "0                76561197970982479          277      40   \n",
       "0                76561197970982479          277      50   \n",
       "\n",
       "                                 item_name  playtime_forever  playtime_2weeks  \n",
       "indice_original                                                                \n",
       "0                           Counter-Strike               6.0              0.0  \n",
       "0                    Team Fortress Classic               0.0              0.0  \n",
       "0                            Day of Defeat               7.0              0.0  \n",
       "0                       Deathmatch Classic               0.0              0.0  \n",
       "0                Half-Life: Opposing Force               0.0              0.0  "
      ]
     },
     "execution_count": 20,
     "metadata": {},
     "output_type": "execute_result"
    }
   ],
   "source": [
    "# Muestra las primeras filas del dataframe\n",
    "df_items.head()"
   ]
  },
  {
   "cell_type": "code",
   "execution_count": 21,
   "metadata": {},
   "outputs": [
    {
     "name": "stdout",
     "output_type": "stream",
     "text": [
      "<class 'pandas.core.frame.DataFrame'>\n",
      "Index: 5110796 entries, 0 to 88309\n",
      "Data columns (total 6 columns):\n",
      " #   Column            Dtype  \n",
      "---  ------            -----  \n",
      " 0   user_id           string \n",
      " 1   items_count       int64  \n",
      " 2   item_id           object \n",
      " 3   item_name         object \n",
      " 4   playtime_forever  float64\n",
      " 5   playtime_2weeks   float64\n",
      "dtypes: float64(2), int64(1), object(2), string(1)\n",
      "memory usage: 272.9+ MB\n"
     ]
    }
   ],
   "source": [
    "# Brinda información resumida del dataframe\n",
    "df_items.info()"
   ]
  },
  {
   "cell_type": "code",
   "execution_count": 22,
   "metadata": {},
   "outputs": [
    {
     "data": {
      "text/plain": [
       "user_id                 0\n",
       "items_count             0\n",
       "item_id                 0\n",
       "item_name               0\n",
       "playtime_forever    16714\n",
       "playtime_2weeks     16714\n",
       "dtype: int64"
      ]
     },
     "execution_count": 22,
     "metadata": {},
     "output_type": "execute_result"
    }
   ],
   "source": [
    "# Cuenta los valores nulos en cada columna\n",
    "df_items.isnull().sum()"
   ]
  },
  {
   "cell_type": "code",
   "execution_count": 23,
   "metadata": {},
   "outputs": [],
   "source": [
    "df_items = df_items.drop(columns='playtime_2weeks')"
   ]
  },
  {
   "cell_type": "code",
   "execution_count": 24,
   "metadata": {},
   "outputs": [],
   "source": [
    "# Convertir la columna 'item_id' a tipo float\n",
    "df_items['item_id'] = pd.to_numeric(df_items['item_id'], errors='coerce')"
   ]
  },
  {
   "cell_type": "code",
   "execution_count": 25,
   "metadata": {},
   "outputs": [
    {
     "data": {
      "text/html": [
       "<div>\n",
       "<style scoped>\n",
       "    .dataframe tbody tr th:only-of-type {\n",
       "        vertical-align: middle;\n",
       "    }\n",
       "\n",
       "    .dataframe tbody tr th {\n",
       "        vertical-align: top;\n",
       "    }\n",
       "\n",
       "    .dataframe thead th {\n",
       "        text-align: right;\n",
       "    }\n",
       "</style>\n",
       "<table border=\"1\" class=\"dataframe\">\n",
       "  <thead>\n",
       "    <tr style=\"text-align: right;\">\n",
       "      <th></th>\n",
       "      <th>user_id</th>\n",
       "      <th>items_count</th>\n",
       "      <th>item_id</th>\n",
       "      <th>item_name</th>\n",
       "      <th>playtime_forever</th>\n",
       "    </tr>\n",
       "    <tr>\n",
       "      <th>indice_original</th>\n",
       "      <th></th>\n",
       "      <th></th>\n",
       "      <th></th>\n",
       "      <th></th>\n",
       "      <th></th>\n",
       "    </tr>\n",
       "  </thead>\n",
       "  <tbody>\n",
       "    <tr>\n",
       "      <th>9</th>\n",
       "      <td>Wackky</td>\n",
       "      <td>0</td>\n",
       "      <td>NaN</td>\n",
       "      <td></td>\n",
       "      <td>NaN</td>\n",
       "    </tr>\n",
       "    <tr>\n",
       "      <th>11</th>\n",
       "      <td>76561198079601835</td>\n",
       "      <td>0</td>\n",
       "      <td>NaN</td>\n",
       "      <td></td>\n",
       "      <td>NaN</td>\n",
       "    </tr>\n",
       "    <tr>\n",
       "      <th>31</th>\n",
       "      <td>hellom8o</td>\n",
       "      <td>0</td>\n",
       "      <td>NaN</td>\n",
       "      <td></td>\n",
       "      <td>NaN</td>\n",
       "    </tr>\n",
       "    <tr>\n",
       "      <th>38</th>\n",
       "      <td>starkillershadow553</td>\n",
       "      <td>0</td>\n",
       "      <td>NaN</td>\n",
       "      <td></td>\n",
       "      <td>NaN</td>\n",
       "    </tr>\n",
       "    <tr>\n",
       "      <th>54</th>\n",
       "      <td>darkenkane</td>\n",
       "      <td>0</td>\n",
       "      <td>NaN</td>\n",
       "      <td></td>\n",
       "      <td>NaN</td>\n",
       "    </tr>\n",
       "    <tr>\n",
       "      <th>...</th>\n",
       "      <td>...</td>\n",
       "      <td>...</td>\n",
       "      <td>...</td>\n",
       "      <td>...</td>\n",
       "      <td>...</td>\n",
       "    </tr>\n",
       "    <tr>\n",
       "      <th>88298</th>\n",
       "      <td>76561198316380182</td>\n",
       "      <td>0</td>\n",
       "      <td>NaN</td>\n",
       "      <td></td>\n",
       "      <td>NaN</td>\n",
       "    </tr>\n",
       "    <tr>\n",
       "      <th>88299</th>\n",
       "      <td>76561198316970597</td>\n",
       "      <td>0</td>\n",
       "      <td>NaN</td>\n",
       "      <td></td>\n",
       "      <td>NaN</td>\n",
       "    </tr>\n",
       "    <tr>\n",
       "      <th>88300</th>\n",
       "      <td>76561198318100691</td>\n",
       "      <td>0</td>\n",
       "      <td>NaN</td>\n",
       "      <td></td>\n",
       "      <td>NaN</td>\n",
       "    </tr>\n",
       "    <tr>\n",
       "      <th>88307</th>\n",
       "      <td>XxLaughingJackClown77xX</td>\n",
       "      <td>0</td>\n",
       "      <td>NaN</td>\n",
       "      <td></td>\n",
       "      <td>NaN</td>\n",
       "    </tr>\n",
       "    <tr>\n",
       "      <th>88309</th>\n",
       "      <td>edward_tremethick</td>\n",
       "      <td>0</td>\n",
       "      <td>NaN</td>\n",
       "      <td></td>\n",
       "      <td>NaN</td>\n",
       "    </tr>\n",
       "  </tbody>\n",
       "</table>\n",
       "<p>16714 rows × 5 columns</p>\n",
       "</div>"
      ],
      "text/plain": [
       "                                 user_id  items_count  item_id item_name  \\\n",
       "indice_original                                                            \n",
       "9                                 Wackky            0      NaN             \n",
       "11                     76561198079601835            0      NaN             \n",
       "31                              hellom8o            0      NaN             \n",
       "38                   starkillershadow553            0      NaN             \n",
       "54                            darkenkane            0      NaN             \n",
       "...                                  ...          ...      ...       ...   \n",
       "88298                  76561198316380182            0      NaN             \n",
       "88299                  76561198316970597            0      NaN             \n",
       "88300                  76561198318100691            0      NaN             \n",
       "88307            XxLaughingJackClown77xX            0      NaN             \n",
       "88309                  edward_tremethick            0      NaN             \n",
       "\n",
       "                 playtime_forever  \n",
       "indice_original                    \n",
       "9                             NaN  \n",
       "11                            NaN  \n",
       "31                            NaN  \n",
       "38                            NaN  \n",
       "54                            NaN  \n",
       "...                           ...  \n",
       "88298                         NaN  \n",
       "88299                         NaN  \n",
       "88300                         NaN  \n",
       "88307                         NaN  \n",
       "88309                         NaN  \n",
       "\n",
       "[16714 rows x 5 columns]"
      ]
     },
     "execution_count": 25,
     "metadata": {},
     "output_type": "execute_result"
    }
   ],
   "source": [
    "#Revisa cuales son las filas que tienen a excepción de user_id y review, todas las columnas con valores nulos\n",
    "filas_con_todo_nulo_exp_id = df_items[(df_items['user_id'].notnull()) & (df_items['item_id'].isnull()) & (df_items['playtime_forever'].isnull()) ]\n",
    "filas_con_todo_nulo_exp_id"
   ]
  },
  {
   "cell_type": "code",
   "execution_count": 26,
   "metadata": {},
   "outputs": [],
   "source": [
    "# Elimina las filas que cumplen con la condición \n",
    "df_items = df_items.dropna(subset='item_id')"
   ]
  },
  {
   "cell_type": "code",
   "execution_count": 27,
   "metadata": {},
   "outputs": [],
   "source": [
    "# Cambia el tipo de datos de la columna item_id de float a int\n",
    "df_items['item_id'] = pd.to_numeric(df_items['item_id'], downcast='integer')"
   ]
  },
  {
   "cell_type": "code",
   "execution_count": 28,
   "metadata": {},
   "outputs": [],
   "source": [
    "# Cambia el tipo de la columna item_name de object a str\n",
    "df_items['item_name'] = df_items['item_name'].astype('str')"
   ]
  },
  {
   "cell_type": "code",
   "execution_count": 29,
   "metadata": {},
   "outputs": [],
   "source": [
    "# Convierte todos los nombres a minúsculas para evitar que se creen valores unicos con nombres repetidos\n",
    "df_items['item_name'] = df_items['item_name'].str.lower()"
   ]
  },
  {
   "cell_type": "code",
   "execution_count": 30,
   "metadata": {},
   "outputs": [
    {
     "name": "stdout",
     "output_type": "stream",
     "text": [
      "['counter-strike' 'team fortress classic' 'day of defeat' ... 'chaostower'\n",
      " 'aveyond 4: shadow of the mist' 'arachnophobia']\n",
      "Cantidad total de valores únicos: 10944\n",
      "¿Hay valores NaN?: False\n",
      "[    10     20     30 ... 354280 433920 485270]\n",
      "Cantidad total de valores únicos: 10978\n",
      "¿Hay valores NaN?: False\n"
     ]
    }
   ],
   "source": [
    "# Revisa la cantidad de valores unicos para item_name e item_id\n",
    "unique_item_names = df_items['item_name'].unique()\n",
    "print(unique_item_names)\n",
    "print(\"Cantidad total de valores únicos:\", len(unique_item_names))\n",
    "print(\"¿Hay valores NaN?:\", pd.isnull(unique_item_names).any())\n",
    "\n",
    "unique_item_ids = df_items['item_id'].unique()\n",
    "print(unique_item_ids)\n",
    "print(\"Cantidad total de valores únicos:\", len(unique_item_ids))\n",
    "print(\"¿Hay valores NaN?:\", pd.isnull(unique_item_ids).any())"
   ]
  },
  {
   "cell_type": "code",
   "execution_count": 31,
   "metadata": {},
   "outputs": [],
   "source": [
    "# Genera nuevo archivo a partir de un dataframe\n",
    "df_items.to_parquet('C:/Users/57315/Documentos/Phyton_Henry/recomendaciones_steam/datasets_post_limpieza/df_items_clean.parquet.gzip', compression='gzip')"
   ]
  },
  {
   "cell_type": "markdown",
   "metadata": {},
   "source": [
    "#### Estadísticas Descriptivas"
   ]
  },
  {
   "cell_type": "code",
   "execution_count": 32,
   "metadata": {},
   "outputs": [
    {
     "data": {
      "text/html": [
       "<div>\n",
       "<style scoped>\n",
       "    .dataframe tbody tr th:only-of-type {\n",
       "        vertical-align: middle;\n",
       "    }\n",
       "\n",
       "    .dataframe tbody tr th {\n",
       "        vertical-align: top;\n",
       "    }\n",
       "\n",
       "    .dataframe thead th {\n",
       "        text-align: right;\n",
       "    }\n",
       "</style>\n",
       "<table border=\"1\" class=\"dataframe\">\n",
       "  <thead>\n",
       "    <tr style=\"text-align: right;\">\n",
       "      <th></th>\n",
       "      <th>user_id</th>\n",
       "      <th>items_count</th>\n",
       "      <th>item_id</th>\n",
       "      <th>item_name</th>\n",
       "      <th>playtime_forever</th>\n",
       "    </tr>\n",
       "  </thead>\n",
       "  <tbody>\n",
       "    <tr>\n",
       "      <th>count</th>\n",
       "      <td>5094082</td>\n",
       "      <td>5.094082e+06</td>\n",
       "      <td>5.094082e+06</td>\n",
       "      <td>5094082</td>\n",
       "      <td>5.094082e+06</td>\n",
       "    </tr>\n",
       "    <tr>\n",
       "      <th>unique</th>\n",
       "      <td>70912</td>\n",
       "      <td>NaN</td>\n",
       "      <td>NaN</td>\n",
       "      <td>10944</td>\n",
       "      <td>NaN</td>\n",
       "    </tr>\n",
       "    <tr>\n",
       "      <th>top</th>\n",
       "      <td>phrostb</td>\n",
       "      <td>NaN</td>\n",
       "      <td>NaN</td>\n",
       "      <td>dota 2 test</td>\n",
       "      <td>NaN</td>\n",
       "    </tr>\n",
       "    <tr>\n",
       "      <th>freq</th>\n",
       "      <td>7762</td>\n",
       "      <td>NaN</td>\n",
       "      <td>NaN</td>\n",
       "      <td>49136</td>\n",
       "      <td>NaN</td>\n",
       "    </tr>\n",
       "    <tr>\n",
       "      <th>mean</th>\n",
       "      <td>NaN</td>\n",
       "      <td>3.157332e+02</td>\n",
       "      <td>1.783915e+05</td>\n",
       "      <td>NaN</td>\n",
       "      <td>9.905070e+02</td>\n",
       "    </tr>\n",
       "    <tr>\n",
       "      <th>std</th>\n",
       "      <td>NaN</td>\n",
       "      <td>6.969087e+02</td>\n",
       "      <td>1.318514e+05</td>\n",
       "      <td>NaN</td>\n",
       "      <td>5.414098e+03</td>\n",
       "    </tr>\n",
       "    <tr>\n",
       "      <th>min</th>\n",
       "      <td>NaN</td>\n",
       "      <td>1.000000e+00</td>\n",
       "      <td>1.000000e+01</td>\n",
       "      <td>NaN</td>\n",
       "      <td>0.000000e+00</td>\n",
       "    </tr>\n",
       "    <tr>\n",
       "      <th>25%</th>\n",
       "      <td>NaN</td>\n",
       "      <td>7.100000e+01</td>\n",
       "      <td>3.445000e+04</td>\n",
       "      <td>NaN</td>\n",
       "      <td>0.000000e+00</td>\n",
       "    </tr>\n",
       "    <tr>\n",
       "      <th>50%</th>\n",
       "      <td>NaN</td>\n",
       "      <td>1.370000e+02</td>\n",
       "      <td>2.144200e+05</td>\n",
       "      <td>NaN</td>\n",
       "      <td>3.400000e+01</td>\n",
       "    </tr>\n",
       "    <tr>\n",
       "      <th>75%</th>\n",
       "      <td>NaN</td>\n",
       "      <td>2.750000e+02</td>\n",
       "      <td>2.664300e+05</td>\n",
       "      <td>NaN</td>\n",
       "      <td>3.550000e+02</td>\n",
       "    </tr>\n",
       "    <tr>\n",
       "      <th>max</th>\n",
       "      <td>NaN</td>\n",
       "      <td>7.762000e+03</td>\n",
       "      <td>5.307200e+05</td>\n",
       "      <td>NaN</td>\n",
       "      <td>6.427730e+05</td>\n",
       "    </tr>\n",
       "  </tbody>\n",
       "</table>\n",
       "</div>"
      ],
      "text/plain": [
       "        user_id   items_count       item_id    item_name  playtime_forever\n",
       "count   5094082  5.094082e+06  5.094082e+06      5094082      5.094082e+06\n",
       "unique    70912           NaN           NaN        10944               NaN\n",
       "top     phrostb           NaN           NaN  dota 2 test               NaN\n",
       "freq       7762           NaN           NaN        49136               NaN\n",
       "mean        NaN  3.157332e+02  1.783915e+05          NaN      9.905070e+02\n",
       "std         NaN  6.969087e+02  1.318514e+05          NaN      5.414098e+03\n",
       "min         NaN  1.000000e+00  1.000000e+01          NaN      0.000000e+00\n",
       "25%         NaN  7.100000e+01  3.445000e+04          NaN      0.000000e+00\n",
       "50%         NaN  1.370000e+02  2.144200e+05          NaN      3.400000e+01\n",
       "75%         NaN  2.750000e+02  2.664300e+05          NaN      3.550000e+02\n",
       "max         NaN  7.762000e+03  5.307200e+05          NaN      6.427730e+05"
      ]
     },
     "execution_count": 32,
     "metadata": {},
     "output_type": "execute_result"
    }
   ],
   "source": [
    "df_items.describe(include='all')"
   ]
  },
  {
   "cell_type": "markdown",
   "metadata": {},
   "source": [
    "**Observaciones**\n",
    "\n",
    "El usuario con mayor variedad de juegos en los que esta registrado es phrostb con 7762 juegos\n",
    "\n",
    "La cantidad de item_id e item_name unicos no es igual, además hay item_name iguales con diferente item_id, por lo que es posible que se trate de ediciones o versiones  diferentes del mismo juego\n",
    "\n",
    "El tiempo total de juego máximo registrado es de 642773.0 horas, sin embargo el 50% de los jugadores resgistran un total de tiempo de juego por contenido de 34 horas."
   ]
  },
  {
   "cell_type": "markdown",
   "metadata": {},
   "source": [
    "#### Distribución de variables cuantitativas"
   ]
  },
  {
   "cell_type": "code",
   "execution_count": 33,
   "metadata": {},
   "outputs": [
    {
     "name": "stderr",
     "output_type": "stream",
     "text": [
      "c:\\Users\\57315\\AppData\\Local\\Programs\\Python\\Python310\\lib\\site-packages\\seaborn\\_oldcore.py:1119: FutureWarning: use_inf_as_na option is deprecated and will be removed in a future version. Convert inf values to NaN before operating instead.\n",
      "  with pd.option_context('mode.use_inf_as_na', True):\n"
     ]
    },
    {
     "data": {
      "image/png": "[encoded data removed]",
      "text/plain": [
       "<Figure size 1500x600 with 1 Axes>"
      ]
     },
     "metadata": {},
     "output_type": "display_data"
    }
   ],
   "source": [
    "# Histograma de 'playtime_forever'\n",
    "# Configura el tamaño de la figura ancho, largo\n",
    "plt.figure(figsize=(15, 6))\n",
    "\n",
    "# Configura el estilo de Seaborn\n",
    "sns.set_style(\"whitegrid\")\n",
    "\n",
    "# Crea el histograma con Seaborn\n",
    "sns.histplot(data=df_items, x='playtime_forever', binwidth=50000, kde=True, color='darkorange', edgecolor='black')\n",
    "\n",
    "# Agrega etiquetas y título\n",
    "plt.title('Distribución de playtime_forever')\n",
    "plt.xlabel('playtime_forever')\n",
    "plt.ylabel('Frecuencia')\n",
    "\n",
    "# Muestra el histograma\n",
    "plt.show()\n"
   ]
  },
  {
   "cell_type": "markdown",
   "metadata": {},
   "source": [
    "**Observaciones**\n",
    "\n",
    "La mayoria de los usuarios tienen un tiempo total de juego entre 0 y 50000 horas, no obstante hay usuarios que superan las 600000 horas de juego."
   ]
  },
  {
   "cell_type": "code",
   "execution_count": 34,
   "metadata": {},
   "outputs": [
    {
     "data": {
      "image/png": "[encoded data removed]",
      "text/plain": [
       "<Figure size 1500x600 with 1 Axes>"
      ]
     },
     "metadata": {},
     "output_type": "display_data"
    }
   ],
   "source": [
    "# Boxplot de 'items_count'\n",
    "# Configura el tamaño de la figura ancho, largo\n",
    "plt.figure(figsize=(15, 6)) \n",
    "\n",
    "# Configura el estilo de Seaborn\n",
    "sns.set_style(\"whitegrid\")\n",
    "\n",
    "# Configura apariencia\n",
    "boxprops = {'edgecolor': 'black', 'linewidth': 1.0}\n",
    "\n",
    "# Crea el gráfico de caja y bigotes\n",
    "sns.boxplot(x=df_items['items_count'], color='darkorange', boxprops=boxprops)\n",
    "\n",
    "# Agrega titulo\n",
    "plt.title('Boxplot de Conteo de juegos por usuario')\n",
    "plt.xlabel('Conteo de juegos')\n",
    "\n",
    "# Muestra el gráfico\n",
    "plt.show()"
   ]
  },
  {
   "cell_type": "markdown",
   "metadata": {},
   "source": [
    "#### Distribución de variables categoricas"
   ]
  },
  {
   "cell_type": "code",
   "execution_count": 35,
   "metadata": {},
   "outputs": [
    {
     "data": {
      "image/png": "[encoded data removed]",
      "text/plain": [
       "<Figure size 1500x600 with 1 Axes>"
      ]
     },
     "metadata": {},
     "output_type": "display_data"
    }
   ],
   "source": [
    "# Cuenta las frecuencias de 'item_name'\n",
    "item_name_counts = df_items['item_name'].value_counts()\n",
    "\n",
    "# Configura el tamaño, ancho por la largo\n",
    "plt.figure(figsize=(15, 6))\n",
    "\n",
    "# Configura el estilo de Seaborn\n",
    "sns.set_style(\"whitegrid\")\n",
    "\n",
    "# Crea el gráfico de barras\n",
    "sns.barplot(x=item_name_counts.head(20).index, y=item_name_counts.head(20), palette='Oranges', edgecolor='black')\n",
    "\n",
    "# Añade etiquetas y título\n",
    "plt.title('Top 20 juegos por frecuencia')\n",
    "plt.xlabel('Nombre del Juego')\n",
    "plt.ylabel('Frecuencia')\n",
    "\n",
    "# Gira etiquetas en el eje x\n",
    "plt.xticks(rotation=45, ha=\"right\")\n",
    "\n",
    "# Muestra el gráfico\n",
    "plt.show()"
   ]
  },
  {
   "cell_type": "markdown",
   "metadata": {},
   "source": [
    "**Observaciones**\n",
    "\n",
    "Los 3 juegos con más reseñados superan las 40000 reseñas, en cambio el 15 mas señado apenas supera las 20000 reseñas."
   ]
  },
  {
   "cell_type": "markdown",
   "metadata": {},
   "source": [
    "### df_games"
   ]
  },
  {
   "cell_type": "markdown",
   "metadata": {},
   "source": [
    "#### Información Básica\n",
    "\n",
    "Este dataframe cuenta con 6 columnas, todas ellas con valores nulos por lo menos en una fila.\n",
    "\n",
    "La columna title se refiere al nombre del juego, release_date a la fecha de lanzamiento en formato aaaa-mm-dd, price al precio en dolares, id al identificador unico del juego, developer al desarrollador  y genres al genero. \n",
    "\n",
    "Para la columna price la os items gratuitos se les asigna un valor de 0 (cero).\n",
    "\n",
    "Se ajustan los los tipos de datos de acuerdo a las características de cada columna.\n",
    "\n",
    "La fila que tiene un valor nulo en la columna id, solo contiene información relevvante en la columna price, en las demás son datos nulos, por lo tanto se decide eliminarla ya que no aporta información relevante.\n",
    "\n",
    "Se imputan los datos de title a aquellas filas que no tienen valores nulos en esta columna pero si tienen id valido, por medio de df_items. Se convierte a minisculas los datos de esta columna para evitar confuiones en los nombres de ls juegos.\n",
    "\n",
    "Se eliminan aquellas filas que por su gran cantidad de datos nulos no aportan información relevamte."
   ]
  },
  {
   "cell_type": "code",
   "execution_count": 36,
   "metadata": {},
   "outputs": [
    {
     "data": {
      "text/html": [
       "<div>\n",
       "<style scoped>\n",
       "    .dataframe tbody tr th:only-of-type {\n",
       "        vertical-align: middle;\n",
       "    }\n",
       "\n",
       "    .dataframe tbody tr th {\n",
       "        vertical-align: top;\n",
       "    }\n",
       "\n",
       "    .dataframe thead th {\n",
       "        text-align: right;\n",
       "    }\n",
       "</style>\n",
       "<table border=\"1\" class=\"dataframe\">\n",
       "  <thead>\n",
       "    <tr style=\"text-align: right;\">\n",
       "      <th></th>\n",
       "      <th>title</th>\n",
       "      <th>release_date</th>\n",
       "      <th>price</th>\n",
       "      <th>id</th>\n",
       "      <th>developer</th>\n",
       "      <th>genres</th>\n",
       "    </tr>\n",
       "  </thead>\n",
       "  <tbody>\n",
       "    <tr>\n",
       "      <th>88310</th>\n",
       "      <td>Lost Summoner Kitty</td>\n",
       "      <td>2018-01-04</td>\n",
       "      <td>4.99</td>\n",
       "      <td>761140.0</td>\n",
       "      <td>Kotoshiro</td>\n",
       "      <td>Action</td>\n",
       "    </tr>\n",
       "    <tr>\n",
       "      <th>88310</th>\n",
       "      <td>Lost Summoner Kitty</td>\n",
       "      <td>2018-01-04</td>\n",
       "      <td>4.99</td>\n",
       "      <td>761140.0</td>\n",
       "      <td>Kotoshiro</td>\n",
       "      <td>Casual</td>\n",
       "    </tr>\n",
       "    <tr>\n",
       "      <th>88310</th>\n",
       "      <td>Lost Summoner Kitty</td>\n",
       "      <td>2018-01-04</td>\n",
       "      <td>4.99</td>\n",
       "      <td>761140.0</td>\n",
       "      <td>Kotoshiro</td>\n",
       "      <td>Indie</td>\n",
       "    </tr>\n",
       "    <tr>\n",
       "      <th>88310</th>\n",
       "      <td>Lost Summoner Kitty</td>\n",
       "      <td>2018-01-04</td>\n",
       "      <td>4.99</td>\n",
       "      <td>761140.0</td>\n",
       "      <td>Kotoshiro</td>\n",
       "      <td>Simulation</td>\n",
       "    </tr>\n",
       "    <tr>\n",
       "      <th>88310</th>\n",
       "      <td>Lost Summoner Kitty</td>\n",
       "      <td>2018-01-04</td>\n",
       "      <td>4.99</td>\n",
       "      <td>761140.0</td>\n",
       "      <td>Kotoshiro</td>\n",
       "      <td>Strategy</td>\n",
       "    </tr>\n",
       "  </tbody>\n",
       "</table>\n",
       "</div>"
      ],
      "text/plain": [
       "                     title release_date price        id  developer      genres\n",
       "88310  Lost Summoner Kitty   2018-01-04  4.99  761140.0  Kotoshiro      Action\n",
       "88310  Lost Summoner Kitty   2018-01-04  4.99  761140.0  Kotoshiro      Casual\n",
       "88310  Lost Summoner Kitty   2018-01-04  4.99  761140.0  Kotoshiro       Indie\n",
       "88310  Lost Summoner Kitty   2018-01-04  4.99  761140.0  Kotoshiro  Simulation\n",
       "88310  Lost Summoner Kitty   2018-01-04  4.99  761140.0  Kotoshiro    Strategy"
      ]
     },
     "execution_count": 36,
     "metadata": {},
     "output_type": "execute_result"
    }
   ],
   "source": [
    "# Muestra las primeras filas del dataframe\n",
    "df_games.head()"
   ]
  },
  {
   "cell_type": "code",
   "execution_count": 37,
   "metadata": {},
   "outputs": [
    {
     "name": "stdout",
     "output_type": "stream",
     "text": [
      "<class 'pandas.core.frame.DataFrame'>\n",
      "Index: 74834 entries, 88310 to 120444\n",
      "Data columns (total 6 columns):\n",
      " #   Column        Non-Null Count  Dtype  \n",
      "---  ------        --------------  -----  \n",
      " 0   title         72783 non-null  string \n",
      " 1   release_date  72732 non-null  string \n",
      " 2   price         71488 non-null  string \n",
      " 3   id            74833 non-null  float64\n",
      " 4   developer     71355 non-null  string \n",
      " 5   genres        71551 non-null  object \n",
      "dtypes: float64(1), object(1), string(4)\n",
      "memory usage: 4.0+ MB\n"
     ]
    }
   ],
   "source": [
    "# Brinda información resumida del dataframe\n",
    "df_games.info()"
   ]
  },
  {
   "cell_type": "code",
   "execution_count": 38,
   "metadata": {},
   "outputs": [
    {
     "data": {
      "text/plain": [
       "title           2051\n",
       "release_date    2102\n",
       "price           3346\n",
       "id                 1\n",
       "developer       3479\n",
       "genres          3283\n",
       "dtype: int64"
      ]
     },
     "execution_count": 38,
     "metadata": {},
     "output_type": "execute_result"
    }
   ],
   "source": [
    "# Cuenta la cantida de filas con valores nulos en cada columna\n",
    "df_games.isnull().sum()"
   ]
  },
  {
   "cell_type": "code",
   "execution_count": 39,
   "metadata": {},
   "outputs": [
    {
     "name": "stdout",
     "output_type": "stream",
     "text": [
      "<StringArray>\n",
      "[        '4.99', 'Free To Play', 'Free to Play',         '0.99',\n",
      "         '2.99',         '3.99',         '9.99',        '18.99',\n",
      "        '29.99',           <NA>,\n",
      " ...\n",
      "        '23.96',         '5.65',         '12.0',        '13.37',\n",
      "       '189.96',       '124.99',   'Free Movie',        '19.98',\n",
      "       '160.91',  'Free to Use']\n",
      "Length: 163, dtype: string\n"
     ]
    }
   ],
   "source": [
    "# Revisa los valores unicos de la columna price\n",
    "unique_price = df_games['price'].unique()\n",
    "print(unique_price)"
   ]
  },
  {
   "cell_type": "code",
   "execution_count": 40,
   "metadata": {},
   "outputs": [],
   "source": [
    "# Convierte todos las letras a minisculas\n",
    "df_games['price'] = df_games['price'].str.lower()"
   ]
  },
  {
   "cell_type": "code",
   "execution_count": 41,
   "metadata": {},
   "outputs": [],
   "source": [
    "# Reemplaza los textos que indican que el contenido es gratuito por cero\n",
    "df_games['price'] = df_games['price'].replace('free to use', '0')\n",
    "df_games['price'] = df_games['price'].replace('free to play', '0')\n",
    "df_games['price'] = df_games['price'].replace('free movie', '0')\n",
    "df_games['price'] = df_games['price'].replace('free', '0')\n",
    "df_games['price'] = df_games['price'].replace('free demo', '0')\n",
    "df_games['price'] = df_games['price'].replace('free to try', '0')\n",
    "df_games['price'] = df_games['price'].replace('play for free!', '0')\n",
    "df_games['price'] = df_games['price'].replace('install now', '0')\n",
    "df_games['price'] = df_games['price'].replace('play warmachine: tactics demo', '0')\n",
    "df_games['price'] = df_games['price'].replace('free mod', '0')\n",
    "df_games['price'] = df_games['price'].replace('install theme', '0')\n",
    "df_games['price'] = df_games['price'].replace('third-party', '0')\n",
    "df_games['price'] = df_games['price'].replace('play now', '0')\n",
    "df_games['price'] = df_games['price'].replace('free hitman™ holiday pack', '0')\n",
    "df_games['price'] = df_games['price'].replace('play the demo', '0')\n",
    "# Reemplaza los textos que indican que el contenido tiene un precio inicial por el precio\n",
    "df_games['price'] = df_games['price'].replace('starting at $499.00', '499.00')\n",
    "df_games['price'] = df_games['price'].replace('starting at $449.00', '449.00')"
   ]
  },
  {
   "cell_type": "code",
   "execution_count": 42,
   "metadata": {},
   "outputs": [],
   "source": [
    "#Cambia el tipo de datos de acuerdo a las necesidades de cada columna\n",
    "df_games['release_date'] = pd.to_datetime(df_games['release_date'], errors='coerce')\n",
    "# Extraer solo la parte de la fecha\n",
    "df_games['release_date'] = df_games['release_date'].dt.date\n",
    "df_games['price'] = pd.to_numeric(df_games['price'], downcast='float')\n",
    "df_games['genres'] = df_games['genres'].replace('','without data')\n",
    "df_games['genres'] = df_games['genres'].apply(str)"
   ]
  },
  {
   "cell_type": "markdown",
   "metadata": {},
   "source": [
    "#### Eliminación e imputación de datos\n"
   ]
  },
  {
   "cell_type": "markdown",
   "metadata": {},
   "source": [
    "Ya que los datos de las columnas 'id' y 'title', tambien estan presentes en df_items, se imputaran los titulos de los id correspondientes que se encuentren en df_items"
   ]
  },
  {
   "cell_type": "code",
   "execution_count": 43,
   "metadata": {},
   "outputs": [
    {
     "data": {
      "text/html": [
       "<div>\n",
       "<style scoped>\n",
       "    .dataframe tbody tr th:only-of-type {\n",
       "        vertical-align: middle;\n",
       "    }\n",
       "\n",
       "    .dataframe tbody tr th {\n",
       "        vertical-align: top;\n",
       "    }\n",
       "\n",
       "    .dataframe thead th {\n",
       "        text-align: right;\n",
       "    }\n",
       "</style>\n",
       "<table border=\"1\" class=\"dataframe\">\n",
       "  <thead>\n",
       "    <tr style=\"text-align: right;\">\n",
       "      <th></th>\n",
       "      <th>title</th>\n",
       "      <th>release_date</th>\n",
       "      <th>price</th>\n",
       "      <th>id</th>\n",
       "      <th>developer</th>\n",
       "      <th>genres</th>\n",
       "    </tr>\n",
       "  </thead>\n",
       "  <tbody>\n",
       "    <tr>\n",
       "      <th>88384</th>\n",
       "      <td>&lt;NA&gt;</td>\n",
       "      <td>NaT</td>\n",
       "      <td>19.99</td>\n",
       "      <td>NaN</td>\n",
       "      <td>&lt;NA&gt;</td>\n",
       "      <td>None</td>\n",
       "    </tr>\n",
       "  </tbody>\n",
       "</table>\n",
       "</div>"
      ],
      "text/plain": [
       "      title release_date  price  id developer genres\n",
       "88384  <NA>          NaT  19.99 NaN      <NA>   None"
      ]
     },
     "execution_count": 43,
     "metadata": {},
     "output_type": "execute_result"
    }
   ],
   "source": [
    "# Verifica las filas con valores nulos en la columna id\n",
    "filas_con_id_nulo = df_games[(df_games['id'].isnull())]\n",
    "filas_con_id_nulo"
   ]
  },
  {
   "cell_type": "code",
   "execution_count": 44,
   "metadata": {},
   "outputs": [],
   "source": [
    "# Elimina las filas con valores nulos en la columna id\n",
    "df_games = df_games.dropna(subset='id')"
   ]
  },
  {
   "cell_type": "code",
   "execution_count": 45,
   "metadata": {},
   "outputs": [
    {
     "data": {
      "text/html": [
       "<div>\n",
       "<style scoped>\n",
       "    .dataframe tbody tr th:only-of-type {\n",
       "        vertical-align: middle;\n",
       "    }\n",
       "\n",
       "    .dataframe tbody tr th {\n",
       "        vertical-align: top;\n",
       "    }\n",
       "\n",
       "    .dataframe thead th {\n",
       "        text-align: right;\n",
       "    }\n",
       "</style>\n",
       "<table border=\"1\" class=\"dataframe\">\n",
       "  <thead>\n",
       "    <tr style=\"text-align: right;\">\n",
       "      <th></th>\n",
       "      <th>title</th>\n",
       "      <th>release_date</th>\n",
       "      <th>price</th>\n",
       "      <th>id</th>\n",
       "      <th>developer</th>\n",
       "      <th>genres</th>\n",
       "    </tr>\n",
       "  </thead>\n",
       "  <tbody>\n",
       "    <tr>\n",
       "      <th>88314</th>\n",
       "      <td>&lt;NA&gt;</td>\n",
       "      <td>NaN</td>\n",
       "      <td>2.99</td>\n",
       "      <td>773570.0</td>\n",
       "      <td>&lt;NA&gt;</td>\n",
       "      <td>None</td>\n",
       "    </tr>\n",
       "    <tr>\n",
       "      <th>88321</th>\n",
       "      <td>&lt;NA&gt;</td>\n",
       "      <td>NaN</td>\n",
       "      <td>0.0</td>\n",
       "      <td>724910.0</td>\n",
       "      <td>&lt;NA&gt;</td>\n",
       "      <td>None</td>\n",
       "    </tr>\n",
       "    <tr>\n",
       "      <th>88329</th>\n",
       "      <td>&lt;NA&gt;</td>\n",
       "      <td>NaN</td>\n",
       "      <td>4.99</td>\n",
       "      <td>772590.0</td>\n",
       "      <td>&lt;NA&gt;</td>\n",
       "      <td>None</td>\n",
       "    </tr>\n",
       "    <tr>\n",
       "      <th>88330</th>\n",
       "      <td>&lt;NA&gt;</td>\n",
       "      <td>NaN</td>\n",
       "      <td>2.99</td>\n",
       "      <td>640250.0</td>\n",
       "      <td>&lt;NA&gt;</td>\n",
       "      <td>None</td>\n",
       "    </tr>\n",
       "    <tr>\n",
       "      <th>88332</th>\n",
       "      <td>&lt;NA&gt;</td>\n",
       "      <td>NaN</td>\n",
       "      <td>0.99</td>\n",
       "      <td>711440.0</td>\n",
       "      <td>&lt;NA&gt;</td>\n",
       "      <td>None</td>\n",
       "    </tr>\n",
       "    <tr>\n",
       "      <th>...</th>\n",
       "      <td>...</td>\n",
       "      <td>...</td>\n",
       "      <td>...</td>\n",
       "      <td>...</td>\n",
       "      <td>...</td>\n",
       "      <td>...</td>\n",
       "    </tr>\n",
       "    <tr>\n",
       "      <th>120383</th>\n",
       "      <td>&lt;NA&gt;</td>\n",
       "      <td>NaN</td>\n",
       "      <td>19.99</td>\n",
       "      <td>745900.0</td>\n",
       "      <td>&lt;NA&gt;</td>\n",
       "      <td>None</td>\n",
       "    </tr>\n",
       "    <tr>\n",
       "      <th>120386</th>\n",
       "      <td>&lt;NA&gt;</td>\n",
       "      <td>NaN</td>\n",
       "      <td>1.99</td>\n",
       "      <td>764110.0</td>\n",
       "      <td>&lt;NA&gt;</td>\n",
       "      <td>None</td>\n",
       "    </tr>\n",
       "    <tr>\n",
       "      <th>120387</th>\n",
       "      <td>&lt;NA&gt;</td>\n",
       "      <td>NaN</td>\n",
       "      <td>0.0</td>\n",
       "      <td>705860.0</td>\n",
       "      <td>&lt;NA&gt;</td>\n",
       "      <td>None</td>\n",
       "    </tr>\n",
       "    <tr>\n",
       "      <th>120395</th>\n",
       "      <td>&lt;NA&gt;</td>\n",
       "      <td>NaN</td>\n",
       "      <td>&lt;NA&gt;</td>\n",
       "      <td>755540.0</td>\n",
       "      <td>&lt;NA&gt;</td>\n",
       "      <td>None</td>\n",
       "    </tr>\n",
       "    <tr>\n",
       "      <th>120444</th>\n",
       "      <td>&lt;NA&gt;</td>\n",
       "      <td>NaN</td>\n",
       "      <td>4.99</td>\n",
       "      <td>681550.0</td>\n",
       "      <td>&lt;NA&gt;</td>\n",
       "      <td>None</td>\n",
       "    </tr>\n",
       "  </tbody>\n",
       "</table>\n",
       "<p>2050 rows × 6 columns</p>\n",
       "</div>"
      ],
      "text/plain": [
       "       title release_date  price        id developer genres\n",
       "88314   <NA>          NaN   2.99  773570.0      <NA>   None\n",
       "88321   <NA>          NaN    0.0  724910.0      <NA>   None\n",
       "88329   <NA>          NaN   4.99  772590.0      <NA>   None\n",
       "88330   <NA>          NaN   2.99  640250.0      <NA>   None\n",
       "88332   <NA>          NaN   0.99  711440.0      <NA>   None\n",
       "...      ...          ...    ...       ...       ...    ...\n",
       "120383  <NA>          NaN  19.99  745900.0      <NA>   None\n",
       "120386  <NA>          NaN   1.99  764110.0      <NA>   None\n",
       "120387  <NA>          NaN    0.0  705860.0      <NA>   None\n",
       "120395  <NA>          NaN   <NA>  755540.0      <NA>   None\n",
       "120444  <NA>          NaN   4.99  681550.0      <NA>   None\n",
       "\n",
       "[2050 rows x 6 columns]"
      ]
     },
     "execution_count": 45,
     "metadata": {},
     "output_type": "execute_result"
    }
   ],
   "source": [
    "filas_con_id_valido_y_title_nulo = df_games[(df_games['id'].notnull()) & (df_games['title'].isnull())]\n",
    "filas_con_id_valido_y_title_nulo\n"
   ]
  },
  {
   "cell_type": "code",
   "execution_count": 46,
   "metadata": {},
   "outputs": [],
   "source": [
    "# Selecciona todas las filas con id válido y title nulo\n",
    "filas_con_id_valido_y_title_nulo = df_games[(df_games['id'].notnull()) & (df_games['title'].isnull())]\n",
    "\n",
    "# Itera sobre las filas seleccionadas\n",
    "for index, row in filas_con_id_valido_y_title_nulo.iterrows():\n",
    "    id_valor = row['id']\n",
    "    \n",
    "    # Busca directamente en df_items\n",
    "    if 'item_id' in df_items.columns and 'item_name' in df_items.columns:  \n",
    "        filas_con_title_no_nulo_otro = df_items[(df_items['item_id'] == id_valor) & (df_items['item_name'].notnull())]\n",
    "        # Verifica si hay alguna fila con title no nulo en el segundo DataFrame\n",
    "        if not filas_con_title_no_nulo_otro.empty:\n",
    "            # Toma la primera fila con title no nulo en el segundo DataFrame\n",
    "            fila_con_title_no_nulo_otro = filas_con_title_no_nulo_otro.iloc[0]\n",
    "            # Imputa el valor de 'title' desde el segundo DataFrame\n",
    "            df_games.at[index, 'title'] = fila_con_title_no_nulo_otro['item_name']"
   ]
  },
  {
   "cell_type": "code",
   "execution_count": 47,
   "metadata": {},
   "outputs": [],
   "source": [
    "columnas_excepto_id_genres = ['title', 'release_date', 'price', 'developer']\n",
    "# Elimina las filas con valores nulos en la columna id\n",
    "df_games = df_games.dropna(subset=columnas_excepto_id_genres)"
   ]
  },
  {
   "cell_type": "code",
   "execution_count": 48,
   "metadata": {},
   "outputs": [],
   "source": [
    "df_games['title'] = df_games['title'].str.lower()"
   ]
  },
  {
   "cell_type": "code",
   "execution_count": 49,
   "metadata": {},
   "outputs": [],
   "source": [
    "# Genera nuevo archivo a partir de un dataframe\n",
    "df_games.to_parquet('C:/Users/57315/Documentos/Phyton_Henry/recomendaciones_steam/datasets_post_limpieza/df_games_clean.parquet.gzip', compression='gzip')"
   ]
  },
  {
   "cell_type": "markdown",
   "metadata": {},
   "source": [
    "#### Estadísticas Descriptivas"
   ]
  },
  {
   "cell_type": "code",
   "execution_count": 50,
   "metadata": {},
   "outputs": [
    {
     "data": {
      "text/html": [
       "<div>\n",
       "<style scoped>\n",
       "    .dataframe tbody tr th:only-of-type {\n",
       "        vertical-align: middle;\n",
       "    }\n",
       "\n",
       "    .dataframe tbody tr th {\n",
       "        vertical-align: top;\n",
       "    }\n",
       "\n",
       "    .dataframe thead th {\n",
       "        text-align: right;\n",
       "    }\n",
       "</style>\n",
       "<table border=\"1\" class=\"dataframe\">\n",
       "  <thead>\n",
       "    <tr style=\"text-align: right;\">\n",
       "      <th></th>\n",
       "      <th>title</th>\n",
       "      <th>release_date</th>\n",
       "      <th>price</th>\n",
       "      <th>id</th>\n",
       "      <th>developer</th>\n",
       "      <th>genres</th>\n",
       "    </tr>\n",
       "  </thead>\n",
       "  <tbody>\n",
       "    <tr>\n",
       "      <th>count</th>\n",
       "      <td>68065</td>\n",
       "      <td>68065</td>\n",
       "      <td>68065.0</td>\n",
       "      <td>6.806500e+04</td>\n",
       "      <td>68065</td>\n",
       "      <td>68065</td>\n",
       "    </tr>\n",
       "    <tr>\n",
       "      <th>unique</th>\n",
       "      <td>27529</td>\n",
       "      <td>3219</td>\n",
       "      <td>&lt;NA&gt;</td>\n",
       "      <td>NaN</td>\n",
       "      <td>10619</td>\n",
       "      <td>23</td>\n",
       "    </tr>\n",
       "    <tr>\n",
       "      <th>top</th>\n",
       "      <td>multiplicity</td>\n",
       "      <td>2017-08-31</td>\n",
       "      <td>&lt;NA&gt;</td>\n",
       "      <td>NaN</td>\n",
       "      <td>Ubisoft - San Francisco</td>\n",
       "      <td>Indie</td>\n",
       "    </tr>\n",
       "    <tr>\n",
       "      <th>freq</th>\n",
       "      <td>10</td>\n",
       "      <td>249</td>\n",
       "      <td>&lt;NA&gt;</td>\n",
       "      <td>NaN</td>\n",
       "      <td>2514</td>\n",
       "      <td>15069</td>\n",
       "    </tr>\n",
       "    <tr>\n",
       "      <th>mean</th>\n",
       "      <td>NaN</td>\n",
       "      <td>NaN</td>\n",
       "      <td>8.834809</td>\n",
       "      <td>4.636966e+05</td>\n",
       "      <td>NaN</td>\n",
       "      <td>NaN</td>\n",
       "    </tr>\n",
       "    <tr>\n",
       "      <th>std</th>\n",
       "      <td>NaN</td>\n",
       "      <td>NaN</td>\n",
       "      <td>16.061518</td>\n",
       "      <td>1.747442e+05</td>\n",
       "      <td>NaN</td>\n",
       "      <td>NaN</td>\n",
       "    </tr>\n",
       "    <tr>\n",
       "      <th>min</th>\n",
       "      <td>NaN</td>\n",
       "      <td>NaN</td>\n",
       "      <td>0.0</td>\n",
       "      <td>1.000000e+01</td>\n",
       "      <td>NaN</td>\n",
       "      <td>NaN</td>\n",
       "    </tr>\n",
       "    <tr>\n",
       "      <th>25%</th>\n",
       "      <td>NaN</td>\n",
       "      <td>NaN</td>\n",
       "      <td>2.99</td>\n",
       "      <td>3.423600e+05</td>\n",
       "      <td>NaN</td>\n",
       "      <td>NaN</td>\n",
       "    </tr>\n",
       "    <tr>\n",
       "      <th>50%</th>\n",
       "      <td>NaN</td>\n",
       "      <td>NaN</td>\n",
       "      <td>4.99</td>\n",
       "      <td>4.610900e+05</td>\n",
       "      <td>NaN</td>\n",
       "      <td>NaN</td>\n",
       "    </tr>\n",
       "    <tr>\n",
       "      <th>75%</th>\n",
       "      <td>NaN</td>\n",
       "      <td>NaN</td>\n",
       "      <td>9.99</td>\n",
       "      <td>6.002500e+05</td>\n",
       "      <td>NaN</td>\n",
       "      <td>NaN</td>\n",
       "    </tr>\n",
       "    <tr>\n",
       "      <th>max</th>\n",
       "      <td>NaN</td>\n",
       "      <td>NaN</td>\n",
       "      <td>995.0</td>\n",
       "      <td>2.028850e+06</td>\n",
       "      <td>NaN</td>\n",
       "      <td>NaN</td>\n",
       "    </tr>\n",
       "  </tbody>\n",
       "</table>\n",
       "</div>"
      ],
      "text/plain": [
       "               title release_date      price            id  \\\n",
       "count          68065        68065    68065.0  6.806500e+04   \n",
       "unique         27529         3219       <NA>           NaN   \n",
       "top     multiplicity   2017-08-31       <NA>           NaN   \n",
       "freq              10          249       <NA>           NaN   \n",
       "mean             NaN          NaN   8.834809  4.636966e+05   \n",
       "std              NaN          NaN  16.061518  1.747442e+05   \n",
       "min              NaN          NaN        0.0  1.000000e+01   \n",
       "25%              NaN          NaN       2.99  3.423600e+05   \n",
       "50%              NaN          NaN       4.99  4.610900e+05   \n",
       "75%              NaN          NaN       9.99  6.002500e+05   \n",
       "max              NaN          NaN      995.0  2.028850e+06   \n",
       "\n",
       "                      developer genres  \n",
       "count                     68065  68065  \n",
       "unique                    10619     23  \n",
       "top     Ubisoft - San Francisco  Indie  \n",
       "freq                       2514  15069  \n",
       "mean                        NaN    NaN  \n",
       "std                         NaN    NaN  \n",
       "min                         NaN    NaN  \n",
       "25%                         NaN    NaN  \n",
       "50%                         NaN    NaN  \n",
       "75%                         NaN    NaN  \n",
       "max                         NaN    NaN  "
      ]
     },
     "execution_count": 50,
     "metadata": {},
     "output_type": "execute_result"
    }
   ],
   "source": [
    "# Muestra la estadistica descriptiva del df\n",
    "df_games.describe(include='all')"
   ]
  },
  {
   "cell_type": "markdown",
   "metadata": {},
   "source": [
    "**Observaciones**\n",
    "- Hay 23 generos distintos, de los cuales el más frecuente es Indie con 15069 registros."
   ]
  },
  {
   "cell_type": "markdown",
   "metadata": {},
   "source": [
    "#### Distribución de variables cuantitativas"
   ]
  },
  {
   "cell_type": "code",
   "execution_count": 51,
   "metadata": {},
   "outputs": [
    {
     "data": {
      "image/png": "[encoded data removed]",
      "text/plain": [
       "<Figure size 1500x600 with 1 Axes>"
      ]
     },
     "metadata": {},
     "output_type": "display_data"
    }
   ],
   "source": [
    "# Boxplot de 'items_count'\n",
    "# Configura el tamaño de la figura ancho, largo\n",
    "plt.figure(figsize=(15, 6)) \n",
    "\n",
    "# Configura el estilo de Seaborn\n",
    "sns.set_style(\"whitegrid\")\n",
    "\n",
    "# Configura apariencia\n",
    "boxprops = {'edgecolor': 'black', 'linewidth': 1.0}\n",
    "\n",
    "# Crea el gráfico de caja y bigotes\n",
    "sns.boxplot(x=df_games['price'], color='darkorange', boxprops=boxprops)\n",
    "\n",
    "# Agrega titulo\n",
    "plt.title('Boxplot de Precios de juegos')\n",
    "plt.xlabel('Precio en dolares')\n",
    "\n",
    "# Muestra el gráfico\n",
    "plt.show()"
   ]
  },
  {
   "cell_type": "markdown",
   "metadata": {},
   "source": [
    "**Observaciones**\n",
    "\n",
    "El 75% de los usuarios compran juegos de no mas de 10 USD, sim embargo hay algunos pocos usuarios que compran juegos de 400 USD o más."
   ]
  },
  {
   "cell_type": "markdown",
   "metadata": {},
   "source": [
    "#### Distribución de variables categoricas"
   ]
  },
  {
   "cell_type": "code",
   "execution_count": 52,
   "metadata": {},
   "outputs": [
    {
     "data": {
      "image/png": "[encoded data removed]",
      "text/plain": [
       "<Figure size 1500x600 with 1 Axes>"
      ]
     },
     "metadata": {},
     "output_type": "display_data"
    }
   ],
   "source": [
    "# Cuenta las frecuencias de 'item_name'\n",
    "item_genre_counts = df_games['genres'].value_counts()\n",
    "\n",
    "# Configura el tamaño, ancho por la largo\n",
    "plt.figure(figsize=(15, 6))\n",
    "\n",
    "# Configura el estilo de Seaborn\n",
    "sns.set_style(\"whitegrid\")\n",
    "\n",
    "# Crea el gráfico de barras\n",
    "sns.barplot(x=item_genre_counts.index, y=item_genre_counts, palette='Oranges', edgecolor='black')\n",
    "\n",
    "# Añade etiquetas y título\n",
    "plt.title('Top generos por frecuencia')\n",
    "plt.xlabel('Nombre del Juego')\n",
    "plt.ylabel('Frecuencia')\n",
    "\n",
    "# Gira etiquetas en el eje x\n",
    "plt.xticks(rotation=45, ha=\"right\")\n",
    "\n",
    "# Muestra el gráfico\n",
    "plt.show()\n"
   ]
  },
  {
   "cell_type": "markdown",
   "metadata": {},
   "source": [
    "**Observaciones**\n",
    "\n",
    "Los 3 generos mas frecuentes superan los 8000 juegos, mientras los 10 generos menos frecuentes no superan los 1000 registros."
   ]
  }
 ],
 "metadata": {
  "kernelspec": {
   "display_name": "Python 3",
   "language": "python",
   "name": "python3"
  },
  "language_info": {
   "codemirror_mode": {
    "name": "ipython",
    "version": 3
   },
   "file_extension": ".py",
   "mimetype": "text/x-python",
   "name": "python",
   "nbconvert_exporter": "python",
   "pygments_lexer": "ipython3",
   "version": "3.10.4"
  }
 },
 "nbformat": 4,
 "nbformat_minor": 2
}
